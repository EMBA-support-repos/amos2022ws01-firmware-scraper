{
 "cells": [
  {
   "cell_type": "markdown",
   "id": "93ad06ce",
   "metadata": {},
   "source": [
    "# Import packages"
   ]
  },
  {
   "cell_type": "code",
   "execution_count": 160,
   "id": "2b5b310b",
   "metadata": {
    "ExecuteTime": {
     "end_time": "2022-11-01T09:03:11.250486Z",
     "start_time": "2022-11-01T09:03:11.244362Z"
    }
   },
   "outputs": [],
   "source": [
    "from selenium import webdriver\n",
    "from selenium.webdriver.chrome.service import Service\n",
    "from webdriver_manager.chrome import ChromeDriverManager\n",
    "from selenium.webdriver.common.action_chains import ActionChains\n",
    "from selenium.webdriver.common.keys import Keys\n",
    "\n",
    "from selenium.webdriver.support.ui import Select\n",
    "from selenium.webdriver.common.by import By"
   ]
  },
  {
   "cell_type": "markdown",
   "id": "9136e8d1",
   "metadata": {},
   "source": [
    "# Initialize Chrome and open Vendor Website"
   ]
  },
  {
   "cell_type": "code",
   "execution_count": 161,
   "id": "26ee9810",
   "metadata": {
    "ExecuteTime": {
     "end_time": "2022-11-01T09:03:24.322822Z",
     "start_time": "2022-11-01T09:03:11.984103Z"
    }
   },
   "outputs": [
    {
     "name": "stderr",
     "output_type": "stream",
     "text": [
      "[WDM] - Downloading: 100%|██████████████████████████████████████████████████████████████████████████████████████████████████████████████████████████████████████████████████████████████████████| 8.08M/8.08M [00:01<00:00, 6.32MB/s]\n"
     ]
    }
   ],
   "source": [
    "# initialize chrome webdriver\n",
    "driver = webdriver.Chrome(service=Service(ChromeDriverManager().install()))\n",
    "\n",
    "# open website\n",
    "driver.get(\"https://www.synology.com/en-global/support/download\")\n",
    "\n",
    "# wait for 3 seconds in case page is being loaded slow\n",
    "#driver.implicitly_wait(3)"
   ]
  },
  {
   "cell_type": "markdown",
   "id": "6a40b4b5",
   "metadata": {
    "ExecuteTime": {
     "end_time": "2022-10-31T05:03:54.708803Z",
     "start_time": "2022-10-31T05:03:54.697364Z"
    }
   },
   "source": [
    "# functions"
   ]
  },
  {
   "cell_type": "code",
   "execution_count": 169,
   "id": "880823eb",
   "metadata": {
    "ExecuteTime": {
     "end_time": "2022-11-01T09:06:35.269684Z",
     "start_time": "2022-11-01T09:06:35.261034Z"
    }
   },
   "outputs": [],
   "source": [
    "def create_product_catalog() -> dict:\n",
    "    \"\"\"\n",
    "    synology\n",
    "    \"\"\"\n",
    "    \n",
    "    sel = Select(driver.find_element(By.CSS_SELECTOR, value='div.margin_bottom20 > select:nth-child(1)'))\n",
    "    \n",
    "    # set keys as product_lines\n",
    "    product_catalog = dict.fromkeys([elem.text for elem in sel.options[1:]], None)\n",
    "    # set values from products of product line\n",
    "    for product in product_catalog.keys():\n",
    "        sel.select_by_visible_text(product)\n",
    "        selector_products = Select(driver.find_element(By.XPATH, value='//*[@id=\"heading_bg\"]/div/div/div[2]/select'))\n",
    "        product_catalog[product] = [elem.text for elem in selector_products.options[1:]]\n",
    "    return product_catalog\n",
    "\n",
    "def choose_product_line(product_line=str) -> None:\n",
    "    \n",
    "    sel = Select(driver.find_element(By.CSS_SELECTOR, value='div.margin_bottom20 > select:nth-child(1)'))\n",
    "    sel.select_by_visible_text(product_line)\n",
    "    selector_products = Select(driver.find_element(By.XPATH, value='//*[@id=\"heading_bg\"]/div/div/div[2]/select'))\n",
    "    return [elem.text for elem in selector_products.options[1:]]\n",
    "\n",
    "def choose_product(product_catalog=dict, product=str) -> None:\n",
    "    selector_products = Select(driver.find_element(By.XPATH, value='//*[@id=\"heading_bg\"]/div/div/div[2]/select'))\n",
    "    driver.implicitly_wait(2)\n",
    "    selector_products.select_by_visible_text(product)\n",
    "    # newest OS Version\n",
    "    selector_OS = driver.find_element(By.XPATH, value='//*[@id=\"results\"]/div[3]/div[2]/div[1]/div/div[1]/div[1]/div/div/div[1]')\n",
    "    \n",
    "    print(f'MD5: {get_MD5_checksum()}')\n",
    "    # download\n",
    "    print(f\"Newest OS Version: {selector_OS.text}\")\n",
    "    \n",
    "    \n",
    "def download_product(product_catalog=dict, product=str) -> bool:\n",
    "    \"\"\"\n",
    "    \"\"\"\n",
    "    #product_line_lookup(product)\n",
    "    el = driver.find_element(By.XPATH, value='//*[@id=\"results\"]/div[3]/div[2]/div[1]/div/div[1]/div[1]/div/div/div[3]/div/div/div/div[1]/a')\n",
    "    el.click()\n",
    "    \n",
    "def get_MD5_checksum() -> str:\n",
    "    #el = driver.find_element(By.XPATH, value='//*[@id=\"results\"]/div[3]/div[2]/div[1]/div/div[1]/div[1]/div/div/div[3]/div/div/div/div[2]')\n",
    "    #el.click()\n",
    "    #el = driver.find_element(By.XPATH, value='//*[@id=\"results\"]/div[3]/div[2]/div[1]/div/div[1]/div[1]/div/div/div[3]/div/div/div/div[2]/div[2]/div/a')\n",
    "    #el.click()\n",
    "    el = driver.find_element(By.XPATH, value='//*[@id=\"results\"]/div[3]/div[2]/div[1]/div/div[1]/div[1]/div/div/div[3]/div/div/div/div[2]/div[2]/div/a')\n",
    "    return el.get_attribute('title').replace('\\n(Copy to Clipboard)','')"
   ]
  },
  {
   "cell_type": "code",
   "execution_count": 170,
   "id": "6a63a661",
   "metadata": {
    "ExecuteTime": {
     "end_time": "2022-11-01T09:06:40.629260Z",
     "start_time": "2022-11-01T09:06:35.834681Z"
    }
   },
   "outputs": [
    {
     "data": {
      "text/plain": [
       "{'NAS': ['DS120j',\n",
       "  'DS119j',\n",
       "  'DS118',\n",
       "  'DS116',\n",
       "  'DS115',\n",
       "  'DS115j',\n",
       "  'DS114',\n",
       "  'DS112+',\n",
       "  'DS112',\n",
       "  'DS112j',\n",
       "  'DS111',\n",
       "  'DS110+',\n",
       "  'DS110j',\n",
       "  'DS109+',\n",
       "  'DS109',\n",
       "  'DS109j',\n",
       "  'DS108j',\n",
       "  'DS107+',\n",
       "  'DS107',\n",
       "  'DS107e',\n",
       "  'DS-106',\n",
       "  'DS-106j',\n",
       "  'DS-106e',\n",
       "  'DS-101g+',\n",
       "  'DS-101',\n",
       "  'DS-101j',\n",
       "  'RS217',\n",
       "  'RS214',\n",
       "  'RS212',\n",
       "  'DS720+',\n",
       "  'DS718+',\n",
       "  'DS716+II',\n",
       "  'DS716+',\n",
       "  'DS715',\n",
       "  'DS713+',\n",
       "  'DS712+',\n",
       "  'DS710+',\n",
       "  'DS220+',\n",
       "  'DS220j',\n",
       "  'DS218+',\n",
       "  'DS218',\n",
       "  'DS218play',\n",
       "  'DS218j',\n",
       "  'DS216+II',\n",
       "  'DS216+',\n",
       "  'DS216',\n",
       "  'DS216play',\n",
       "  'DS216j',\n",
       "  'DS216se',\n",
       "  'DS215+',\n",
       "  'DS215j',\n",
       "  'DS214+',\n",
       "  'DS214',\n",
       "  'DS214play',\n",
       "  'DS214se',\n",
       "  'DS213+',\n",
       "  'DS213',\n",
       "  'DS213j',\n",
       "  'DS213air',\n",
       "  'DS212+',\n",
       "  'DS212',\n",
       "  'DS212j',\n",
       "  'DS211+',\n",
       "  'DS211',\n",
       "  'DS211j',\n",
       "  'DS210+',\n",
       "  'DS210j',\n",
       "  'DS209+II',\n",
       "  'DS209+',\n",
       "  'DS209',\n",
       "  'DS209j',\n",
       "  'DS207+',\n",
       "  'DS207',\n",
       "  'ioSafe 220+',\n",
       "  'ioSafe 218',\n",
       "  'ioSafe 216',\n",
       "  'ioSafe 214',\n",
       "  'ioSafe 213',\n",
       "  'RS1619xs+',\n",
       "  'RS822RP+',\n",
       "  'RS822+',\n",
       "  'RS820RP+',\n",
       "  'RS820+',\n",
       "  'RS819',\n",
       "  'RS818RP+',\n",
       "  'RS818+',\n",
       "  'RS816',\n",
       "  'RS815RP+',\n",
       "  'RS815+',\n",
       "  'RS815',\n",
       "  'RS814RP+',\n",
       "  'RS814+',\n",
       "  'RS814',\n",
       "  'RS812RP+',\n",
       "  'RS812+',\n",
       "  'RS812',\n",
       "  'RS810RP+',\n",
       "  'RS810+',\n",
       "  'RS422+',\n",
       "  'RS411',\n",
       "  'RS409RP+',\n",
       "  'RS409+',\n",
       "  'RS409',\n",
       "  'RS408',\n",
       "  'RS408RP',\n",
       "  'RS407',\n",
       "  'RS-406',\n",
       "  'DS920+',\n",
       "  'DS918+',\n",
       "  'DS916+',\n",
       "  'DS420+',\n",
       "  'DS420j',\n",
       "  'DS419slim',\n",
       "  'DS418',\n",
       "  'DS418play',\n",
       "  'DS418j',\n",
       "  'DS416',\n",
       "  'DS416play',\n",
       "  'DS416slim',\n",
       "  'DS416j',\n",
       "  'DS415+',\n",
       "  'DS415play',\n",
       "  'DS414',\n",
       "  'DS414slim',\n",
       "  'DS414j',\n",
       "  'DS413',\n",
       "  'DS413j',\n",
       "  'DS412+',\n",
       "  'DS411+II',\n",
       "  'DS411+',\n",
       "  'DS411',\n",
       "  'DS411slim',\n",
       "  'DS411j',\n",
       "  'DS410',\n",
       "  'DS410j',\n",
       "  'DS409+',\n",
       "  'DS409',\n",
       "  'DS409slim',\n",
       "  'DS408',\n",
       "  'CS407',\n",
       "  'CS407e',\n",
       "  'CS-406',\n",
       "  'CS-406e',\n",
       "  'DS1522+',\n",
       "  'DS1520+',\n",
       "  'DS1517+',\n",
       "  'DS1517',\n",
       "  'DS1515+',\n",
       "  'DS1515',\n",
       "  'DS1513+',\n",
       "  'DS1512+',\n",
       "  'DS1511+',\n",
       "  'DS1019+',\n",
       "  'DS1010+',\n",
       "  'DS509+',\n",
       "  'DS508',\n",
       "  'ioSafe 1522+',\n",
       "  'ioSafe 1520+',\n",
       "  'ioSafe 1517',\n",
       "  'ioSafe 1515+',\n",
       "  'ioSafe 1513+',\n",
       "  'ioSafe 1019+',\n",
       "  'DS3018xs',\n",
       "  'DS1621xs+',\n",
       "  'DS1621+',\n",
       "  'DS1618+',\n",
       "  'DS620slim',\n",
       "  'RS1221RP+',\n",
       "  'RS1221+',\n",
       "  'RS1219+',\n",
       "  'DS2015xs',\n",
       "  'DS1821+',\n",
       "  'DS1819+',\n",
       "  'DS1817+',\n",
       "  'DS1817',\n",
       "  'DS1815+',\n",
       "  'DS1813+',\n",
       "  'DS1812+',\n",
       "  'RS10613xs+',\n",
       "  'RS3413xs+',\n",
       "  'RS3412RPxs',\n",
       "  'RS3412xs',\n",
       "  'RS3411RPxs',\n",
       "  'RS3411xs',\n",
       "  'RS2212RP+',\n",
       "  'RS2212+',\n",
       "  'RS2211RP+',\n",
       "  'RS2211+',\n",
       "  'FS1018',\n",
       "  'FS2500',\n",
       "  'SA3600',\n",
       "  'SA3400',\n",
       "  'SA3200D',\n",
       "  'RS18017xs+',\n",
       "  'RS18016xs+',\n",
       "  'RS3621xs+',\n",
       "  'RS3621RPxs',\n",
       "  'RS3618xs',\n",
       "  'RS3617xs+',\n",
       "  'RS3617RPxs',\n",
       "  'RS3617xs',\n",
       "  'RS3614xs+',\n",
       "  'RS3614RPxs',\n",
       "  'RS3614xs',\n",
       "  'RS2421RP+',\n",
       "  'RS2421+',\n",
       "  'RS2418RP+',\n",
       "  'RS2418+',\n",
       "  'RS2416RP+',\n",
       "  'RS2416+',\n",
       "  'RS2414RP+',\n",
       "  'RS2414+',\n",
       "  'RC18015xs+',\n",
       "  'DS3622xs+',\n",
       "  'DS3617xsII',\n",
       "  'DS3617xs',\n",
       "  'DS3615xs',\n",
       "  'DS3612xs',\n",
       "  'DS3611xs',\n",
       "  'DS2422+',\n",
       "  'DS2419+II',\n",
       "  'DS2419+',\n",
       "  'DS2415+',\n",
       "  'DS2413+',\n",
       "  'DS2411+',\n",
       "  'RS4021xs+',\n",
       "  'RS4017xs+',\n",
       "  'RS2821RP+',\n",
       "  'RS2818RP+',\n",
       "  'FS6400',\n",
       "  'FS3600',\n",
       "  'FS3400',\n",
       "  'FS3017',\n",
       "  'FS2017',\n",
       "  'FS3410',\n",
       "  'HD6500'],\n",
       " 'SAN': ['UC3200'],\n",
       " 'Expansion Unit': ['FX2421',\n",
       "  'RX6022sas',\n",
       "  'RX1222sas',\n",
       "  'RXD1219sas',\n",
       "  'RX2417sas',\n",
       "  'RX1217sas',\n",
       "  'RX1217RP',\n",
       "  'RX1217',\n",
       "  'RX1216sas',\n",
       "  'RXD1215sas',\n",
       "  'RX1214RP',\n",
       "  'RX1214',\n",
       "  'RX1213sas',\n",
       "  'RX1211RP',\n",
       "  'RX1211',\n",
       "  'RX418',\n",
       "  'RX415',\n",
       "  'RX410',\n",
       "  'DX1222',\n",
       "  'DX1215II',\n",
       "  'DX1215',\n",
       "  'DX1211',\n",
       "  'DX517',\n",
       "  'DX513',\n",
       "  'DX510',\n",
       "  'DX213',\n",
       "  'ioSafe X517',\n",
       "  'ioSafe X513'],\n",
       " 'Storage Drives': ['HAS5300-8T',\n",
       "  'HAS5300-16T',\n",
       "  'HAS5300-12T',\n",
       "  'HAT5310-8T',\n",
       "  'HAT5310-18T',\n",
       "  'HAT5300-4T',\n",
       "  'HAT5300-8T',\n",
       "  'HAT5300-16T',\n",
       "  'HAT5300-12T',\n",
       "  'SAT5200-960G',\n",
       "  'SAT5200-480G',\n",
       "  'SAT5200-3840G',\n",
       "  'SAT5200-1920G',\n",
       "  'SAT5210-960G',\n",
       "  'SAT5210-480G',\n",
       "  'SAT5210-3840G',\n",
       "  'SAT5210-1920G',\n",
       "  'SNV3500-800G',\n",
       "  'SNV3400-800G',\n",
       "  'SNV3500-400G',\n",
       "  'SNV3400-400G',\n",
       "  'SNV3510-800G',\n",
       "  'SNV3510-400G',\n",
       "  'SNV3410-800G',\n",
       "  'SNV3410-400G'],\n",
       " 'Surveillance': ['DVA3221',\n",
       "  'DVA3219',\n",
       "  'NVR1218',\n",
       "  'NVR216',\n",
       "  'DVA1622',\n",
       "  'VS960HD',\n",
       "  'VS360HD',\n",
       "  'VS240HD',\n",
       "  'VS80',\n",
       "  'VS60'],\n",
       " 'Network': ['WRX560', 'RT6600ax', 'MR2200ac', 'RT2600ac', 'RT1900ac'],\n",
       " 'Others': ['EDS14',\n",
       "  'E10M20-T1',\n",
       "  'M2D20',\n",
       "  'M2D18',\n",
       "  'E10G22-T1-Mini',\n",
       "  'E25G21-F2',\n",
       "  'E10G21-F2',\n",
       "  'E10G18-T2',\n",
       "  'E10G18-T1',\n",
       "  'E10G17-F2',\n",
       "  'E10G15-F1',\n",
       "  'RKS-03',\n",
       "  'RKS-02',\n",
       "  'RKS-01',\n",
       "  'CMA-01',\n",
       "  'RKS1317',\n",
       "  'FXC17',\n",
       "  'RKS1314',\n",
       "  'RKM114',\n",
       "  'USB Station 2',\n",
       "  'Synology Remote',\n",
       "  'USB Station',\n",
       "  'PSU 500W_2',\n",
       "  'PSU 400W_1',\n",
       "  'PSU 400W/500W_1',\n",
       "  'PSU 250W_2',\n",
       "  'PSU 250W_1',\n",
       "  'PSU 250W-RP SET_2',\n",
       "  'PSU 250W-RP Module_1',\n",
       "  'PSU 150W_1',\n",
       "  'PSU 100W_2',\n",
       "  'PSU 100W_1',\n",
       "  'FAN 80*80*25_2',\n",
       "  'FAN 80*80*25_1',\n",
       "  'FAN 80*80*20_1',\n",
       "  'FAN 70*70*25_1',\n",
       "  'FAN 60*60*10_1',\n",
       "  'FAN 50*50*20_1',\n",
       "  'FAN 50*50*15_1',\n",
       "  'CPU FAN 40*40*10_1',\n",
       "  'CPU Cooler 92*92*25',\n",
       "  'CPU Cooler 40*40*10',\n",
       "  'Adapter 72W_2',\n",
       "  'Adapter 65W/72W_1',\n",
       "  'Adapter 48W/50W_1',\n",
       "  'Adapter 36W_1',\n",
       "  'Adapter 100W_1',\n",
       "  'Disk Tray (Type R4)',\n",
       "  'Disk Tray (Type R3)',\n",
       "  'Disk Tray (Type R2)',\n",
       "  'Disk Tray (Type R1)',\n",
       "  'Disk Tray (Type D4)',\n",
       "  'Disk Tray (Type D3)',\n",
       "  'Disk Tray (Type D2)',\n",
       "  'Adapter 10W/11W_1_UK',\n",
       "  'Adapter 10W/11W_1_EU',\n",
       "  'DDSM',\n",
       "  'VirtualDSM']}"
      ]
     },
     "execution_count": 170,
     "metadata": {},
     "output_type": "execute_result"
    }
   ],
   "source": [
    "# all product lines and their corresponding products in one product catalogue as dynamic dictionary\n",
    "product_catalog = create_product_catalog()\n",
    "product_catalog"
   ]
  },
  {
   "cell_type": "code",
   "execution_count": 174,
   "id": "75136fe6",
   "metadata": {
    "ExecuteTime": {
     "end_time": "2022-11-01T09:07:06.510140Z",
     "start_time": "2022-11-01T09:07:06.430739Z"
    }
   },
   "outputs": [
    {
     "data": {
      "text/plain": [
       "['WRX560', 'RT6600ax', 'MR2200ac', 'RT2600ac', 'RT1900ac']"
      ]
     },
     "execution_count": 174,
     "metadata": {},
     "output_type": "execute_result"
    }
   ],
   "source": [
    "# returns list of strings of products from selected product_line \n",
    "choose_product_line('Network')"
   ]
  },
  {
   "cell_type": "code",
   "execution_count": 175,
   "id": "0b467fb2",
   "metadata": {
    "ExecuteTime": {
     "end_time": "2022-11-01T09:07:06.759396Z",
     "start_time": "2022-11-01T09:07:06.700479Z"
    }
   },
   "outputs": [
    {
     "name": "stdout",
     "output_type": "stream",
     "text": [
      "MD5: ce163cf4671f81e3ba652bd86c83be08\n",
      "Newest OS Version: SRM 1.3.1\n"
     ]
    }
   ],
   "source": [
    "# funktioniert nur richtig in jupyter notebook, wenn die seite visuell auch geladen ist :-)\n",
    "# könnte an jupyter notebook liegen\n",
    "product = 'RT6600ax'\n",
    "choose_product(product_catalog, product)\n",
    "# output is MD5 checksum and newest available OS Version"
   ]
  },
  {
   "cell_type": "markdown",
   "id": "4473f144",
   "metadata": {},
   "source": [
    "# start local download"
   ]
  },
  {
   "cell_type": "code",
   "execution_count": 176,
   "id": "cd4084d0",
   "metadata": {
    "ExecuteTime": {
     "end_time": "2022-11-01T09:07:22.231318Z",
     "start_time": "2022-11-01T09:07:22.041895Z"
    }
   },
   "outputs": [],
   "source": [
    "# TODO argument missing to parse download_folder ( should actually be a Chrome config file)\n",
    "download_product(product_catalog, product)"
   ]
  },
  {
   "cell_type": "markdown",
   "id": "ea6e30eb",
   "metadata": {},
   "source": [
    "# compare MD5 checksum "
   ]
  },
  {
   "cell_type": "code",
   "execution_count": null,
   "id": "0657e876",
   "metadata": {},
   "outputs": [],
   "source": []
  },
  {
   "cell_type": "markdown",
   "id": "07d576a3",
   "metadata": {
    "ExecuteTime": {
     "end_time": "2022-10-29T18:07:19.518852Z",
     "start_time": "2022-10-29T18:07:19.508578Z"
    }
   },
   "source": [
    "# close browser"
   ]
  },
  {
   "cell_type": "code",
   "execution_count": 53,
   "id": "da451530",
   "metadata": {
    "ExecuteTime": {
     "end_time": "2022-10-30T12:55:48.689653Z",
     "start_time": "2022-10-30T12:55:47.911342Z"
    }
   },
   "outputs": [],
   "source": [
    "driver.quit()"
   ]
  },
  {
   "cell_type": "code",
   "execution_count": null,
   "id": "840d0770",
   "metadata": {},
   "outputs": [],
   "source": []
  },
  {
   "cell_type": "code",
   "execution_count": null,
   "id": "aab5b098",
   "metadata": {},
   "outputs": [],
   "source": []
  },
  {
   "cell_type": "code",
   "execution_count": null,
   "id": "00e7c452",
   "metadata": {},
   "outputs": [],
   "source": []
  },
  {
   "cell_type": "markdown",
   "id": "3056bb0e",
   "metadata": {},
   "source": [
    "# QNAP test with refactoring / only partly working yet"
   ]
  },
  {
   "cell_type": "code",
   "execution_count": null,
   "id": "d83a3945",
   "metadata": {},
   "outputs": [],
   "source": []
  },
  {
   "cell_type": "code",
   "execution_count": 129,
   "id": "4f18f5b3",
   "metadata": {
    "ExecuteTime": {
     "end_time": "2022-10-30T16:48:22.689022Z",
     "start_time": "2022-10-30T16:48:16.110996Z"
    }
   },
   "outputs": [],
   "source": [
    "driver = webdriver.Chrome(service=Service(ChromeDriverManager().install()))\n",
    "driver.get(\"https://www.qnap.com/en-me/download?model=hs-210&category=firmware\")"
   ]
  },
  {
   "cell_type": "code",
   "execution_count": 130,
   "id": "55723198",
   "metadata": {
    "ExecuteTime": {
     "end_time": "2022-10-30T16:48:24.260335Z",
     "start_time": "2022-10-30T16:48:24.232973Z"
    }
   },
   "outputs": [],
   "source": [
    "el = driver.find_element(By.XPATH, value='//*[@id=\"download_center\"]/div/div[1]/div/div[1]/div[1]/div/select')\n",
    "sel = Select(el)"
   ]
  },
  {
   "cell_type": "code",
   "execution_count": 131,
   "id": "e79cb26b",
   "metadata": {
    "ExecuteTime": {
     "end_time": "2022-10-30T16:48:30.189342Z",
     "start_time": "2022-10-30T16:48:29.993406Z"
    }
   },
   "outputs": [],
   "source": [
    "product_catalog2 = dict.fromkeys([el.text for el in sel.options])"
   ]
  },
  {
   "cell_type": "code",
   "execution_count": 132,
   "id": "8672c843",
   "metadata": {
    "ExecuteTime": {
     "end_time": "2022-10-30T16:48:30.610827Z",
     "start_time": "2022-10-30T16:48:30.606278Z"
    }
   },
   "outputs": [
    {
     "data": {
      "text/plain": [
       "{'NAS / Expansion': None,\n",
       " 'QuTScloud': None,\n",
       " 'QBoat': None,\n",
       " 'QGenie': None,\n",
       " 'Computing Accelerators': None,\n",
       " 'Switch': None,\n",
       " 'Video Conferencing Systems': None,\n",
       " 'QDA Drive Adapters': None,\n",
       " 'QNA Adapters': None,\n",
       " 'QXP Expansion Cards': None,\n",
       " 'QWU Wake on WAN Devices': None,\n",
       " 'QXG Network Expansion Cards': None,\n",
       " 'QVR Pro Appliance': None,\n",
       " 'Routers': None,\n",
       " 'QuCPE': None,\n",
       " 'QuWAN vRouter Edition': None,\n",
       " 'Accessory': None,\n",
       " 'Legacy NVR': None}"
      ]
     },
     "execution_count": 132,
     "metadata": {},
     "output_type": "execute_result"
    }
   ],
   "source": [
    "product_catalog2"
   ]
  },
  {
   "cell_type": "code",
   "execution_count": 133,
   "id": "f7ecbc30",
   "metadata": {
    "ExecuteTime": {
     "end_time": "2022-10-30T16:48:32.468196Z",
     "start_time": "2022-10-30T16:48:32.464551Z"
    }
   },
   "outputs": [],
   "source": [
    "def find_options_in_select(XPATH_str=str, skip=0) -> (Select, list):\n",
    "    \n",
    "    \"\"\"\n",
    "    xpath: xpath to dropdown menue / select. \n",
    "    skip: how many options to skip (sometimes first element is \"please select product type\", we dont need that)\n",
    "    returns: list of str of dropdown elements\n",
    "    \"\"\"\n",
    "    \n",
    "    select = Select(driver.find_element(By.XPATH, value=XPATH_str))\n",
    "    return select, [elem.text for elem in select.options[skip:]]"
   ]
  },
  {
   "cell_type": "code",
   "execution_count": 134,
   "id": "a022f1b4",
   "metadata": {
    "ExecuteTime": {
     "end_time": "2022-10-30T16:48:33.146735Z",
     "start_time": "2022-10-30T16:48:33.013313Z"
    }
   },
   "outputs": [],
   "source": [
    "product_catalog = {}\n",
    "s, l = find_options_in_select('//*[@id=\"download_center\"]/div/div[1]/div/div[1]/div[1]/div/select')\n",
    "product_catalog = product_catalog.fromkeys(l)"
   ]
  },
  {
   "cell_type": "code",
   "execution_count": 135,
   "id": "81f4f65e",
   "metadata": {
    "ExecuteTime": {
     "end_time": "2022-10-30T16:48:35.193320Z",
     "start_time": "2022-10-30T16:48:34.301914Z"
    }
   },
   "outputs": [
    {
     "name": "stdout",
     "output_type": "stream",
     "text": [
      "NAS / Expansion\n",
      "QuTScloud\n",
      "QBoat\n",
      "QGenie\n",
      "Computing Accelerators\n",
      "Switch\n",
      "Video Conferencing Systems\n",
      "QDA Drive Adapters\n",
      "QNA Adapters\n",
      "QXP Expansion Cards\n",
      "QWU Wake on WAN Devices\n",
      "QXG Network Expansion Cards\n",
      "QVR Pro Appliance\n",
      "Routers\n",
      "QuCPE\n",
      "QuWAN vRouter Edition\n",
      "Accessory\n",
      "Legacy NVR\n"
     ]
    }
   ],
   "source": [
    "for key in product_catalog.keys():\n",
    "    print(key)\n",
    "    s.select_by_visible_text(key)\n",
    "    # product_catalog[key] ="
   ]
  },
  {
   "cell_type": "code",
   "execution_count": 128,
   "id": "385d4d06",
   "metadata": {
    "ExecuteTime": {
     "end_time": "2022-10-30T16:48:11.651823Z",
     "start_time": "2022-10-30T16:47:49.528259Z"
    }
   },
   "outputs": [
    {
     "ename": "KeyboardInterrupt",
     "evalue": "",
     "output_type": "error",
     "traceback": [
      "\u001b[0;31m---------------------------------------------------------------------------\u001b[0m",
      "\u001b[0;31mKeyboardInterrupt\u001b[0m                         Traceback (most recent call last)",
      "\u001b[0;32m/var/folders/yr/jsmzxw4102bb5tj6kvlpvcy00000gn/T/ipykernel_77794/3667116537.py\u001b[0m in \u001b[0;36m<module>\u001b[0;34m\u001b[0m\n\u001b[1;32m      1\u001b[0m \u001b[0;32mfor\u001b[0m \u001b[0melement\u001b[0m \u001b[0;32min\u001b[0m \u001b[0ml\u001b[0m\u001b[0;34m:\u001b[0m\u001b[0;34m\u001b[0m\u001b[0;34m\u001b[0m\u001b[0m\n\u001b[0;32m----> 2\u001b[0;31m     \u001b[0ms\u001b[0m\u001b[0;34m.\u001b[0m\u001b[0mselect_by_visible_text\u001b[0m\u001b[0;34m(\u001b[0m\u001b[0melement\u001b[0m\u001b[0;34m)\u001b[0m\u001b[0;34m\u001b[0m\u001b[0;34m\u001b[0m\u001b[0m\n\u001b[0m\u001b[1;32m      3\u001b[0m     \u001b[0ms\u001b[0m\u001b[0;34m,\u001b[0m \u001b[0ml\u001b[0m \u001b[0;34m=\u001b[0m \u001b[0mfind_options_in_select\u001b[0m\u001b[0;34m(\u001b[0m\u001b[0;34m'//*[@id=\"download_center\"]/div/div[1]/div/div[1]/div[2]/div/select'\u001b[0m\u001b[0;34m,\u001b[0m \u001b[0mskip\u001b[0m\u001b[0;34m=\u001b[0m\u001b[0;36m1\u001b[0m\u001b[0;34m)\u001b[0m\u001b[0;34m\u001b[0m\u001b[0;34m\u001b[0m\u001b[0m\n",
      "\u001b[0;32m~/opt/anaconda3/lib/python3.8/site-packages/selenium/webdriver/support/select.py\u001b[0m in \u001b[0;36mselect_by_visible_text\u001b[0;34m(self, text)\u001b[0m\n\u001b[1;32m    113\u001b[0m            \"\"\"\n\u001b[1;32m    114\u001b[0m         \u001b[0mxpath\u001b[0m \u001b[0;34m=\u001b[0m \u001b[0;34m\".//option[normalize-space(.) = %s]\"\u001b[0m \u001b[0;34m%\u001b[0m \u001b[0mself\u001b[0m\u001b[0;34m.\u001b[0m\u001b[0m_escape_string\u001b[0m\u001b[0;34m(\u001b[0m\u001b[0mtext\u001b[0m\u001b[0;34m)\u001b[0m\u001b[0;34m\u001b[0m\u001b[0;34m\u001b[0m\u001b[0m\n\u001b[0;32m--> 115\u001b[0;31m         \u001b[0mopts\u001b[0m \u001b[0;34m=\u001b[0m \u001b[0mself\u001b[0m\u001b[0;34m.\u001b[0m\u001b[0m_el\u001b[0m\u001b[0;34m.\u001b[0m\u001b[0mfind_elements\u001b[0m\u001b[0;34m(\u001b[0m\u001b[0mBy\u001b[0m\u001b[0;34m.\u001b[0m\u001b[0mXPATH\u001b[0m\u001b[0;34m,\u001b[0m \u001b[0mxpath\u001b[0m\u001b[0;34m)\u001b[0m\u001b[0;34m\u001b[0m\u001b[0;34m\u001b[0m\u001b[0m\n\u001b[0m\u001b[1;32m    116\u001b[0m         \u001b[0mmatched\u001b[0m \u001b[0;34m=\u001b[0m \u001b[0;32mFalse\u001b[0m\u001b[0;34m\u001b[0m\u001b[0;34m\u001b[0m\u001b[0m\n\u001b[1;32m    117\u001b[0m         \u001b[0;32mfor\u001b[0m \u001b[0mopt\u001b[0m \u001b[0;32min\u001b[0m \u001b[0mopts\u001b[0m\u001b[0;34m:\u001b[0m\u001b[0;34m\u001b[0m\u001b[0;34m\u001b[0m\u001b[0m\n",
      "\u001b[0;32m~/opt/anaconda3/lib/python3.8/site-packages/selenium/webdriver/remote/webelement.py\u001b[0m in \u001b[0;36mfind_elements\u001b[0;34m(self, by, value)\u001b[0m\n\u001b[1;32m    441\u001b[0m             \u001b[0mvalue\u001b[0m \u001b[0;34m=\u001b[0m \u001b[0;34m'[name=\"%s\"]'\u001b[0m \u001b[0;34m%\u001b[0m \u001b[0mvalue\u001b[0m\u001b[0;34m\u001b[0m\u001b[0;34m\u001b[0m\u001b[0m\n\u001b[1;32m    442\u001b[0m \u001b[0;34m\u001b[0m\u001b[0m\n\u001b[0;32m--> 443\u001b[0;31m         return self._execute(Command.FIND_CHILD_ELEMENTS,\n\u001b[0m\u001b[1;32m    444\u001b[0m                              {\"using\": by, \"value\": value})['value']\n\u001b[1;32m    445\u001b[0m \u001b[0;34m\u001b[0m\u001b[0m\n",
      "\u001b[0;32m~/opt/anaconda3/lib/python3.8/site-packages/selenium/webdriver/remote/webelement.py\u001b[0m in \u001b[0;36m_execute\u001b[0;34m(self, command, params)\u001b[0m\n\u001b[1;32m    394\u001b[0m             \u001b[0mparams\u001b[0m \u001b[0;34m=\u001b[0m \u001b[0;34m{\u001b[0m\u001b[0;34m}\u001b[0m\u001b[0;34m\u001b[0m\u001b[0;34m\u001b[0m\u001b[0m\n\u001b[1;32m    395\u001b[0m         \u001b[0mparams\u001b[0m\u001b[0;34m[\u001b[0m\u001b[0;34m'id'\u001b[0m\u001b[0;34m]\u001b[0m \u001b[0;34m=\u001b[0m \u001b[0mself\u001b[0m\u001b[0;34m.\u001b[0m\u001b[0m_id\u001b[0m\u001b[0;34m\u001b[0m\u001b[0;34m\u001b[0m\u001b[0m\n\u001b[0;32m--> 396\u001b[0;31m         \u001b[0;32mreturn\u001b[0m \u001b[0mself\u001b[0m\u001b[0;34m.\u001b[0m\u001b[0m_parent\u001b[0m\u001b[0;34m.\u001b[0m\u001b[0mexecute\u001b[0m\u001b[0;34m(\u001b[0m\u001b[0mcommand\u001b[0m\u001b[0;34m,\u001b[0m \u001b[0mparams\u001b[0m\u001b[0;34m)\u001b[0m\u001b[0;34m\u001b[0m\u001b[0;34m\u001b[0m\u001b[0m\n\u001b[0m\u001b[1;32m    397\u001b[0m \u001b[0;34m\u001b[0m\u001b[0m\n\u001b[1;32m    398\u001b[0m     \u001b[0;32mdef\u001b[0m \u001b[0mfind_element\u001b[0m\u001b[0;34m(\u001b[0m\u001b[0mself\u001b[0m\u001b[0;34m,\u001b[0m \u001b[0mby\u001b[0m\u001b[0;34m=\u001b[0m\u001b[0mBy\u001b[0m\u001b[0;34m.\u001b[0m\u001b[0mID\u001b[0m\u001b[0;34m,\u001b[0m \u001b[0mvalue\u001b[0m\u001b[0;34m=\u001b[0m\u001b[0;32mNone\u001b[0m\u001b[0;34m)\u001b[0m \u001b[0;34m->\u001b[0m \u001b[0mWebElement\u001b[0m\u001b[0;34m:\u001b[0m\u001b[0;34m\u001b[0m\u001b[0;34m\u001b[0m\u001b[0m\n",
      "\u001b[0;32m~/opt/anaconda3/lib/python3.8/site-packages/selenium/webdriver/remote/webdriver.py\u001b[0m in \u001b[0;36mexecute\u001b[0;34m(self, driver_command, params)\u001b[0m\n\u001b[1;32m    425\u001b[0m \u001b[0;34m\u001b[0m\u001b[0m\n\u001b[1;32m    426\u001b[0m         \u001b[0mparams\u001b[0m \u001b[0;34m=\u001b[0m \u001b[0mself\u001b[0m\u001b[0;34m.\u001b[0m\u001b[0m_wrap_value\u001b[0m\u001b[0;34m(\u001b[0m\u001b[0mparams\u001b[0m\u001b[0;34m)\u001b[0m\u001b[0;34m\u001b[0m\u001b[0;34m\u001b[0m\u001b[0m\n\u001b[0;32m--> 427\u001b[0;31m         \u001b[0mresponse\u001b[0m \u001b[0;34m=\u001b[0m \u001b[0mself\u001b[0m\u001b[0;34m.\u001b[0m\u001b[0mcommand_executor\u001b[0m\u001b[0;34m.\u001b[0m\u001b[0mexecute\u001b[0m\u001b[0;34m(\u001b[0m\u001b[0mdriver_command\u001b[0m\u001b[0;34m,\u001b[0m \u001b[0mparams\u001b[0m\u001b[0;34m)\u001b[0m\u001b[0;34m\u001b[0m\u001b[0;34m\u001b[0m\u001b[0m\n\u001b[0m\u001b[1;32m    428\u001b[0m         \u001b[0;32mif\u001b[0m \u001b[0mresponse\u001b[0m\u001b[0;34m:\u001b[0m\u001b[0;34m\u001b[0m\u001b[0;34m\u001b[0m\u001b[0m\n\u001b[1;32m    429\u001b[0m             \u001b[0mself\u001b[0m\u001b[0;34m.\u001b[0m\u001b[0merror_handler\u001b[0m\u001b[0;34m.\u001b[0m\u001b[0mcheck_response\u001b[0m\u001b[0;34m(\u001b[0m\u001b[0mresponse\u001b[0m\u001b[0;34m)\u001b[0m\u001b[0;34m\u001b[0m\u001b[0;34m\u001b[0m\u001b[0m\n",
      "\u001b[0;32m~/opt/anaconda3/lib/python3.8/site-packages/selenium/webdriver/remote/remote_connection.py\u001b[0m in \u001b[0;36mexecute\u001b[0;34m(self, command, params)\u001b[0m\n\u001b[1;32m    342\u001b[0m         \u001b[0mdata\u001b[0m \u001b[0;34m=\u001b[0m \u001b[0mutils\u001b[0m\u001b[0;34m.\u001b[0m\u001b[0mdump_json\u001b[0m\u001b[0;34m(\u001b[0m\u001b[0mparams\u001b[0m\u001b[0;34m)\u001b[0m\u001b[0;34m\u001b[0m\u001b[0;34m\u001b[0m\u001b[0m\n\u001b[1;32m    343\u001b[0m         \u001b[0murl\u001b[0m \u001b[0;34m=\u001b[0m \u001b[0;34mf\"{self._url}{path}\"\u001b[0m\u001b[0;34m\u001b[0m\u001b[0;34m\u001b[0m\u001b[0m\n\u001b[0;32m--> 344\u001b[0;31m         \u001b[0;32mreturn\u001b[0m \u001b[0mself\u001b[0m\u001b[0;34m.\u001b[0m\u001b[0m_request\u001b[0m\u001b[0;34m(\u001b[0m\u001b[0mcommand_info\u001b[0m\u001b[0;34m[\u001b[0m\u001b[0;36m0\u001b[0m\u001b[0;34m]\u001b[0m\u001b[0;34m,\u001b[0m \u001b[0murl\u001b[0m\u001b[0;34m,\u001b[0m \u001b[0mbody\u001b[0m\u001b[0;34m=\u001b[0m\u001b[0mdata\u001b[0m\u001b[0;34m)\u001b[0m\u001b[0;34m\u001b[0m\u001b[0;34m\u001b[0m\u001b[0m\n\u001b[0m\u001b[1;32m    345\u001b[0m \u001b[0;34m\u001b[0m\u001b[0m\n\u001b[1;32m    346\u001b[0m     \u001b[0;32mdef\u001b[0m \u001b[0m_request\u001b[0m\u001b[0;34m(\u001b[0m\u001b[0mself\u001b[0m\u001b[0;34m,\u001b[0m \u001b[0mmethod\u001b[0m\u001b[0;34m,\u001b[0m \u001b[0murl\u001b[0m\u001b[0;34m,\u001b[0m \u001b[0mbody\u001b[0m\u001b[0;34m=\u001b[0m\u001b[0;32mNone\u001b[0m\u001b[0;34m)\u001b[0m\u001b[0;34m:\u001b[0m\u001b[0;34m\u001b[0m\u001b[0;34m\u001b[0m\u001b[0m\n",
      "\u001b[0;32m~/opt/anaconda3/lib/python3.8/site-packages/selenium/webdriver/remote/remote_connection.py\u001b[0m in \u001b[0;36m_request\u001b[0;34m(self, method, url, body)\u001b[0m\n\u001b[1;32m    364\u001b[0m \u001b[0;34m\u001b[0m\u001b[0m\n\u001b[1;32m    365\u001b[0m         \u001b[0;32mif\u001b[0m \u001b[0mself\u001b[0m\u001b[0;34m.\u001b[0m\u001b[0mkeep_alive\u001b[0m\u001b[0;34m:\u001b[0m\u001b[0;34m\u001b[0m\u001b[0;34m\u001b[0m\u001b[0m\n\u001b[0;32m--> 366\u001b[0;31m             \u001b[0mresponse\u001b[0m \u001b[0;34m=\u001b[0m \u001b[0mself\u001b[0m\u001b[0;34m.\u001b[0m\u001b[0m_conn\u001b[0m\u001b[0;34m.\u001b[0m\u001b[0mrequest\u001b[0m\u001b[0;34m(\u001b[0m\u001b[0mmethod\u001b[0m\u001b[0;34m,\u001b[0m \u001b[0murl\u001b[0m\u001b[0;34m,\u001b[0m \u001b[0mbody\u001b[0m\u001b[0;34m=\u001b[0m\u001b[0mbody\u001b[0m\u001b[0;34m,\u001b[0m \u001b[0mheaders\u001b[0m\u001b[0;34m=\u001b[0m\u001b[0mheaders\u001b[0m\u001b[0;34m)\u001b[0m\u001b[0;34m\u001b[0m\u001b[0;34m\u001b[0m\u001b[0m\n\u001b[0m\u001b[1;32m    367\u001b[0m             \u001b[0mstatuscode\u001b[0m \u001b[0;34m=\u001b[0m \u001b[0mresponse\u001b[0m\u001b[0;34m.\u001b[0m\u001b[0mstatus\u001b[0m\u001b[0;34m\u001b[0m\u001b[0;34m\u001b[0m\u001b[0m\n\u001b[1;32m    368\u001b[0m         \u001b[0;32melse\u001b[0m\u001b[0;34m:\u001b[0m\u001b[0;34m\u001b[0m\u001b[0;34m\u001b[0m\u001b[0m\n",
      "\u001b[0;32m~/opt/anaconda3/lib/python3.8/site-packages/urllib3/request.py\u001b[0m in \u001b[0;36mrequest\u001b[0;34m(self, method, url, fields, headers, **urlopen_kw)\u001b[0m\n\u001b[1;32m     76\u001b[0m             )\n\u001b[1;32m     77\u001b[0m         \u001b[0;32melse\u001b[0m\u001b[0;34m:\u001b[0m\u001b[0;34m\u001b[0m\u001b[0;34m\u001b[0m\u001b[0m\n\u001b[0;32m---> 78\u001b[0;31m             return self.request_encode_body(\n\u001b[0m\u001b[1;32m     79\u001b[0m                 \u001b[0mmethod\u001b[0m\u001b[0;34m,\u001b[0m \u001b[0murl\u001b[0m\u001b[0;34m,\u001b[0m \u001b[0mfields\u001b[0m\u001b[0;34m=\u001b[0m\u001b[0mfields\u001b[0m\u001b[0;34m,\u001b[0m \u001b[0mheaders\u001b[0m\u001b[0;34m=\u001b[0m\u001b[0mheaders\u001b[0m\u001b[0;34m,\u001b[0m \u001b[0;34m**\u001b[0m\u001b[0murlopen_kw\u001b[0m\u001b[0;34m\u001b[0m\u001b[0;34m\u001b[0m\u001b[0m\n\u001b[1;32m     80\u001b[0m             )\n",
      "\u001b[0;32m~/opt/anaconda3/lib/python3.8/site-packages/urllib3/request.py\u001b[0m in \u001b[0;36mrequest_encode_body\u001b[0;34m(self, method, url, fields, headers, encode_multipart, multipart_boundary, **urlopen_kw)\u001b[0m\n\u001b[1;32m    168\u001b[0m         \u001b[0mextra_kw\u001b[0m\u001b[0;34m.\u001b[0m\u001b[0mupdate\u001b[0m\u001b[0;34m(\u001b[0m\u001b[0murlopen_kw\u001b[0m\u001b[0;34m)\u001b[0m\u001b[0;34m\u001b[0m\u001b[0;34m\u001b[0m\u001b[0m\n\u001b[1;32m    169\u001b[0m \u001b[0;34m\u001b[0m\u001b[0m\n\u001b[0;32m--> 170\u001b[0;31m         \u001b[0;32mreturn\u001b[0m \u001b[0mself\u001b[0m\u001b[0;34m.\u001b[0m\u001b[0murlopen\u001b[0m\u001b[0;34m(\u001b[0m\u001b[0mmethod\u001b[0m\u001b[0;34m,\u001b[0m \u001b[0murl\u001b[0m\u001b[0;34m,\u001b[0m \u001b[0;34m**\u001b[0m\u001b[0mextra_kw\u001b[0m\u001b[0;34m)\u001b[0m\u001b[0;34m\u001b[0m\u001b[0;34m\u001b[0m\u001b[0m\n\u001b[0m",
      "\u001b[0;32m~/opt/anaconda3/lib/python3.8/site-packages/urllib3/poolmanager.py\u001b[0m in \u001b[0;36murlopen\u001b[0;34m(self, method, url, redirect, **kw)\u001b[0m\n\u001b[1;32m    373\u001b[0m             \u001b[0mresponse\u001b[0m \u001b[0;34m=\u001b[0m \u001b[0mconn\u001b[0m\u001b[0;34m.\u001b[0m\u001b[0murlopen\u001b[0m\u001b[0;34m(\u001b[0m\u001b[0mmethod\u001b[0m\u001b[0;34m,\u001b[0m \u001b[0murl\u001b[0m\u001b[0;34m,\u001b[0m \u001b[0;34m**\u001b[0m\u001b[0mkw\u001b[0m\u001b[0;34m)\u001b[0m\u001b[0;34m\u001b[0m\u001b[0;34m\u001b[0m\u001b[0m\n\u001b[1;32m    374\u001b[0m         \u001b[0;32melse\u001b[0m\u001b[0;34m:\u001b[0m\u001b[0;34m\u001b[0m\u001b[0;34m\u001b[0m\u001b[0m\n\u001b[0;32m--> 375\u001b[0;31m             \u001b[0mresponse\u001b[0m \u001b[0;34m=\u001b[0m \u001b[0mconn\u001b[0m\u001b[0;34m.\u001b[0m\u001b[0murlopen\u001b[0m\u001b[0;34m(\u001b[0m\u001b[0mmethod\u001b[0m\u001b[0;34m,\u001b[0m \u001b[0mu\u001b[0m\u001b[0;34m.\u001b[0m\u001b[0mrequest_uri\u001b[0m\u001b[0;34m,\u001b[0m \u001b[0;34m**\u001b[0m\u001b[0mkw\u001b[0m\u001b[0;34m)\u001b[0m\u001b[0;34m\u001b[0m\u001b[0;34m\u001b[0m\u001b[0m\n\u001b[0m\u001b[1;32m    376\u001b[0m \u001b[0;34m\u001b[0m\u001b[0m\n\u001b[1;32m    377\u001b[0m         \u001b[0mredirect_location\u001b[0m \u001b[0;34m=\u001b[0m \u001b[0mredirect\u001b[0m \u001b[0;32mand\u001b[0m \u001b[0mresponse\u001b[0m\u001b[0;34m.\u001b[0m\u001b[0mget_redirect_location\u001b[0m\u001b[0;34m(\u001b[0m\u001b[0;34m)\u001b[0m\u001b[0;34m\u001b[0m\u001b[0;34m\u001b[0m\u001b[0m\n",
      "\u001b[0;32m~/opt/anaconda3/lib/python3.8/site-packages/urllib3/connectionpool.py\u001b[0m in \u001b[0;36murlopen\u001b[0;34m(self, method, url, body, headers, retries, redirect, assert_same_host, timeout, pool_timeout, release_conn, chunked, body_pos, **response_kw)\u001b[0m\n\u001b[1;32m    701\u001b[0m \u001b[0;34m\u001b[0m\u001b[0m\n\u001b[1;32m    702\u001b[0m             \u001b[0;31m# Make the request on the httplib connection object.\u001b[0m\u001b[0;34m\u001b[0m\u001b[0;34m\u001b[0m\u001b[0;34m\u001b[0m\u001b[0m\n\u001b[0;32m--> 703\u001b[0;31m             httplib_response = self._make_request(\n\u001b[0m\u001b[1;32m    704\u001b[0m                 \u001b[0mconn\u001b[0m\u001b[0;34m,\u001b[0m\u001b[0;34m\u001b[0m\u001b[0;34m\u001b[0m\u001b[0m\n\u001b[1;32m    705\u001b[0m                 \u001b[0mmethod\u001b[0m\u001b[0;34m,\u001b[0m\u001b[0;34m\u001b[0m\u001b[0;34m\u001b[0m\u001b[0m\n",
      "\u001b[0;32m~/opt/anaconda3/lib/python3.8/site-packages/urllib3/connectionpool.py\u001b[0m in \u001b[0;36m_make_request\u001b[0;34m(self, conn, method, url, timeout, chunked, **httplib_request_kw)\u001b[0m\n\u001b[1;32m    447\u001b[0m                     \u001b[0;31m# Python 3 (including for exceptions like SystemExit).\u001b[0m\u001b[0;34m\u001b[0m\u001b[0;34m\u001b[0m\u001b[0;34m\u001b[0m\u001b[0m\n\u001b[1;32m    448\u001b[0m                     \u001b[0;31m# Otherwise it looks like a bug in the code.\u001b[0m\u001b[0;34m\u001b[0m\u001b[0;34m\u001b[0m\u001b[0;34m\u001b[0m\u001b[0m\n\u001b[0;32m--> 449\u001b[0;31m                     \u001b[0msix\u001b[0m\u001b[0;34m.\u001b[0m\u001b[0mraise_from\u001b[0m\u001b[0;34m(\u001b[0m\u001b[0me\u001b[0m\u001b[0;34m,\u001b[0m \u001b[0;32mNone\u001b[0m\u001b[0;34m)\u001b[0m\u001b[0;34m\u001b[0m\u001b[0;34m\u001b[0m\u001b[0m\n\u001b[0m\u001b[1;32m    450\u001b[0m         \u001b[0;32mexcept\u001b[0m \u001b[0;34m(\u001b[0m\u001b[0mSocketTimeout\u001b[0m\u001b[0;34m,\u001b[0m \u001b[0mBaseSSLError\u001b[0m\u001b[0;34m,\u001b[0m \u001b[0mSocketError\u001b[0m\u001b[0;34m)\u001b[0m \u001b[0;32mas\u001b[0m \u001b[0me\u001b[0m\u001b[0;34m:\u001b[0m\u001b[0;34m\u001b[0m\u001b[0;34m\u001b[0m\u001b[0m\n\u001b[1;32m    451\u001b[0m             \u001b[0mself\u001b[0m\u001b[0;34m.\u001b[0m\u001b[0m_raise_timeout\u001b[0m\u001b[0;34m(\u001b[0m\u001b[0merr\u001b[0m\u001b[0;34m=\u001b[0m\u001b[0me\u001b[0m\u001b[0;34m,\u001b[0m \u001b[0murl\u001b[0m\u001b[0;34m=\u001b[0m\u001b[0murl\u001b[0m\u001b[0;34m,\u001b[0m \u001b[0mtimeout_value\u001b[0m\u001b[0;34m=\u001b[0m\u001b[0mread_timeout\u001b[0m\u001b[0;34m)\u001b[0m\u001b[0;34m\u001b[0m\u001b[0;34m\u001b[0m\u001b[0m\n",
      "\u001b[0;32m~/opt/anaconda3/lib/python3.8/site-packages/urllib3/packages/six.py\u001b[0m in \u001b[0;36mraise_from\u001b[0;34m(value, from_value)\u001b[0m\n",
      "\u001b[0;32m~/opt/anaconda3/lib/python3.8/site-packages/urllib3/connectionpool.py\u001b[0m in \u001b[0;36m_make_request\u001b[0;34m(self, conn, method, url, timeout, chunked, **httplib_request_kw)\u001b[0m\n\u001b[1;32m    442\u001b[0m                 \u001b[0;31m# Python 3\u001b[0m\u001b[0;34m\u001b[0m\u001b[0;34m\u001b[0m\u001b[0;34m\u001b[0m\u001b[0m\n\u001b[1;32m    443\u001b[0m                 \u001b[0;32mtry\u001b[0m\u001b[0;34m:\u001b[0m\u001b[0;34m\u001b[0m\u001b[0;34m\u001b[0m\u001b[0m\n\u001b[0;32m--> 444\u001b[0;31m                     \u001b[0mhttplib_response\u001b[0m \u001b[0;34m=\u001b[0m \u001b[0mconn\u001b[0m\u001b[0;34m.\u001b[0m\u001b[0mgetresponse\u001b[0m\u001b[0;34m(\u001b[0m\u001b[0;34m)\u001b[0m\u001b[0;34m\u001b[0m\u001b[0;34m\u001b[0m\u001b[0m\n\u001b[0m\u001b[1;32m    445\u001b[0m                 \u001b[0;32mexcept\u001b[0m \u001b[0mBaseException\u001b[0m \u001b[0;32mas\u001b[0m \u001b[0me\u001b[0m\u001b[0;34m:\u001b[0m\u001b[0;34m\u001b[0m\u001b[0;34m\u001b[0m\u001b[0m\n\u001b[1;32m    446\u001b[0m                     \u001b[0;31m# Remove the TypeError from the exception chain in\u001b[0m\u001b[0;34m\u001b[0m\u001b[0;34m\u001b[0m\u001b[0;34m\u001b[0m\u001b[0m\n",
      "\u001b[0;32m~/opt/anaconda3/lib/python3.8/http/client.py\u001b[0m in \u001b[0;36mgetresponse\u001b[0;34m(self)\u001b[0m\n\u001b[1;32m   1346\u001b[0m         \u001b[0;32mtry\u001b[0m\u001b[0;34m:\u001b[0m\u001b[0;34m\u001b[0m\u001b[0;34m\u001b[0m\u001b[0m\n\u001b[1;32m   1347\u001b[0m             \u001b[0;32mtry\u001b[0m\u001b[0;34m:\u001b[0m\u001b[0;34m\u001b[0m\u001b[0;34m\u001b[0m\u001b[0m\n\u001b[0;32m-> 1348\u001b[0;31m                 \u001b[0mresponse\u001b[0m\u001b[0;34m.\u001b[0m\u001b[0mbegin\u001b[0m\u001b[0;34m(\u001b[0m\u001b[0;34m)\u001b[0m\u001b[0;34m\u001b[0m\u001b[0;34m\u001b[0m\u001b[0m\n\u001b[0m\u001b[1;32m   1349\u001b[0m             \u001b[0;32mexcept\u001b[0m \u001b[0mConnectionError\u001b[0m\u001b[0;34m:\u001b[0m\u001b[0;34m\u001b[0m\u001b[0;34m\u001b[0m\u001b[0m\n\u001b[1;32m   1350\u001b[0m                 \u001b[0mself\u001b[0m\u001b[0;34m.\u001b[0m\u001b[0mclose\u001b[0m\u001b[0;34m(\u001b[0m\u001b[0;34m)\u001b[0m\u001b[0;34m\u001b[0m\u001b[0;34m\u001b[0m\u001b[0m\n",
      "\u001b[0;32m~/opt/anaconda3/lib/python3.8/http/client.py\u001b[0m in \u001b[0;36mbegin\u001b[0;34m(self)\u001b[0m\n\u001b[1;32m    314\u001b[0m         \u001b[0;31m# read until we get a non-100 response\u001b[0m\u001b[0;34m\u001b[0m\u001b[0;34m\u001b[0m\u001b[0;34m\u001b[0m\u001b[0m\n\u001b[1;32m    315\u001b[0m         \u001b[0;32mwhile\u001b[0m \u001b[0;32mTrue\u001b[0m\u001b[0;34m:\u001b[0m\u001b[0;34m\u001b[0m\u001b[0;34m\u001b[0m\u001b[0m\n\u001b[0;32m--> 316\u001b[0;31m             \u001b[0mversion\u001b[0m\u001b[0;34m,\u001b[0m \u001b[0mstatus\u001b[0m\u001b[0;34m,\u001b[0m \u001b[0mreason\u001b[0m \u001b[0;34m=\u001b[0m \u001b[0mself\u001b[0m\u001b[0;34m.\u001b[0m\u001b[0m_read_status\u001b[0m\u001b[0;34m(\u001b[0m\u001b[0;34m)\u001b[0m\u001b[0;34m\u001b[0m\u001b[0;34m\u001b[0m\u001b[0m\n\u001b[0m\u001b[1;32m    317\u001b[0m             \u001b[0;32mif\u001b[0m \u001b[0mstatus\u001b[0m \u001b[0;34m!=\u001b[0m \u001b[0mCONTINUE\u001b[0m\u001b[0;34m:\u001b[0m\u001b[0;34m\u001b[0m\u001b[0;34m\u001b[0m\u001b[0m\n\u001b[1;32m    318\u001b[0m                 \u001b[0;32mbreak\u001b[0m\u001b[0;34m\u001b[0m\u001b[0;34m\u001b[0m\u001b[0m\n",
      "\u001b[0;32m~/opt/anaconda3/lib/python3.8/http/client.py\u001b[0m in \u001b[0;36m_read_status\u001b[0;34m(self)\u001b[0m\n\u001b[1;32m    275\u001b[0m \u001b[0;34m\u001b[0m\u001b[0m\n\u001b[1;32m    276\u001b[0m     \u001b[0;32mdef\u001b[0m \u001b[0m_read_status\u001b[0m\u001b[0;34m(\u001b[0m\u001b[0mself\u001b[0m\u001b[0;34m)\u001b[0m\u001b[0;34m:\u001b[0m\u001b[0;34m\u001b[0m\u001b[0;34m\u001b[0m\u001b[0m\n\u001b[0;32m--> 277\u001b[0;31m         \u001b[0mline\u001b[0m \u001b[0;34m=\u001b[0m \u001b[0mstr\u001b[0m\u001b[0;34m(\u001b[0m\u001b[0mself\u001b[0m\u001b[0;34m.\u001b[0m\u001b[0mfp\u001b[0m\u001b[0;34m.\u001b[0m\u001b[0mreadline\u001b[0m\u001b[0;34m(\u001b[0m\u001b[0m_MAXLINE\u001b[0m \u001b[0;34m+\u001b[0m \u001b[0;36m1\u001b[0m\u001b[0;34m)\u001b[0m\u001b[0;34m,\u001b[0m \u001b[0;34m\"iso-8859-1\"\u001b[0m\u001b[0;34m)\u001b[0m\u001b[0;34m\u001b[0m\u001b[0;34m\u001b[0m\u001b[0m\n\u001b[0m\u001b[1;32m    278\u001b[0m         \u001b[0;32mif\u001b[0m \u001b[0mlen\u001b[0m\u001b[0;34m(\u001b[0m\u001b[0mline\u001b[0m\u001b[0;34m)\u001b[0m \u001b[0;34m>\u001b[0m \u001b[0m_MAXLINE\u001b[0m\u001b[0;34m:\u001b[0m\u001b[0;34m\u001b[0m\u001b[0;34m\u001b[0m\u001b[0m\n\u001b[1;32m    279\u001b[0m             \u001b[0;32mraise\u001b[0m \u001b[0mLineTooLong\u001b[0m\u001b[0;34m(\u001b[0m\u001b[0;34m\"status line\"\u001b[0m\u001b[0;34m)\u001b[0m\u001b[0;34m\u001b[0m\u001b[0;34m\u001b[0m\u001b[0m\n",
      "\u001b[0;32m~/opt/anaconda3/lib/python3.8/socket.py\u001b[0m in \u001b[0;36mreadinto\u001b[0;34m(self, b)\u001b[0m\n\u001b[1;32m    667\u001b[0m         \u001b[0;32mwhile\u001b[0m \u001b[0;32mTrue\u001b[0m\u001b[0;34m:\u001b[0m\u001b[0;34m\u001b[0m\u001b[0;34m\u001b[0m\u001b[0m\n\u001b[1;32m    668\u001b[0m             \u001b[0;32mtry\u001b[0m\u001b[0;34m:\u001b[0m\u001b[0;34m\u001b[0m\u001b[0;34m\u001b[0m\u001b[0m\n\u001b[0;32m--> 669\u001b[0;31m                 \u001b[0;32mreturn\u001b[0m \u001b[0mself\u001b[0m\u001b[0;34m.\u001b[0m\u001b[0m_sock\u001b[0m\u001b[0;34m.\u001b[0m\u001b[0mrecv_into\u001b[0m\u001b[0;34m(\u001b[0m\u001b[0mb\u001b[0m\u001b[0;34m)\u001b[0m\u001b[0;34m\u001b[0m\u001b[0;34m\u001b[0m\u001b[0m\n\u001b[0m\u001b[1;32m    670\u001b[0m             \u001b[0;32mexcept\u001b[0m \u001b[0mtimeout\u001b[0m\u001b[0;34m:\u001b[0m\u001b[0;34m\u001b[0m\u001b[0;34m\u001b[0m\u001b[0m\n\u001b[1;32m    671\u001b[0m                 \u001b[0mself\u001b[0m\u001b[0;34m.\u001b[0m\u001b[0m_timeout_occurred\u001b[0m \u001b[0;34m=\u001b[0m \u001b[0;32mTrue\u001b[0m\u001b[0;34m\u001b[0m\u001b[0;34m\u001b[0m\u001b[0m\n",
      "\u001b[0;31mKeyboardInterrupt\u001b[0m: "
     ]
    }
   ],
   "source": [
    "for element in l:\n",
    "    s.select_by_visible_text(element)\n",
    "    s, l = find_options_in_select('//*[@id=\"download_center\"]/div/div[1]/div/div[1]/div[2]/div/select', skip=1)"
   ]
  },
  {
   "cell_type": "code",
   "execution_count": null,
   "id": "b8ab0f26",
   "metadata": {},
   "outputs": [],
   "source": []
  },
  {
   "cell_type": "code",
   "execution_count": 98,
   "id": "1119ff1c",
   "metadata": {
    "ExecuteTime": {
     "end_time": "2022-10-30T13:22:40.026780Z",
     "start_time": "2022-10-30T13:22:39.788085Z"
    }
   },
   "outputs": [],
   "source": [
    "s, l = find_options_in_select('//*[@id=\"download_center\"]/div/div[1]/div/div[1]/div[2]/div/select', skip=1)"
   ]
  },
  {
   "cell_type": "code",
   "execution_count": 100,
   "id": "063e6daf",
   "metadata": {
    "ExecuteTime": {
     "end_time": "2022-10-30T13:23:15.377055Z",
     "start_time": "2022-10-30T13:23:15.312430Z"
    }
   },
   "outputs": [],
   "source": [
    "s.select_by_visible_text(l[0])"
   ]
  },
  {
   "cell_type": "code",
   "execution_count": 102,
   "id": "fe72f0b6",
   "metadata": {
    "ExecuteTime": {
     "end_time": "2022-10-30T13:24:32.433895Z",
     "start_time": "2022-10-30T13:24:32.121012Z"
    }
   },
   "outputs": [],
   "source": [
    "s, l = find_options_in_select('//*[@id=\"model-select\"]', skip=1)"
   ]
  },
  {
   "cell_type": "code",
   "execution_count": 103,
   "id": "92e351f7",
   "metadata": {
    "ExecuteTime": {
     "end_time": "2022-10-30T13:24:36.224123Z",
     "start_time": "2022-10-30T13:24:36.219472Z"
    }
   },
   "outputs": [
    {
     "data": {
      "text/plain": [
       "['NMP-1000P',\n",
       " 'NVR-101',\n",
       " 'NVR-1012',\n",
       " 'NVR-104P',\n",
       " 'NVR-104V',\n",
       " 'TAS-168',\n",
       " 'TS-100',\n",
       " 'TS-101',\n",
       " 'TS-109',\n",
       " 'TS-109 II',\n",
       " 'TS-109 Pro',\n",
       " 'TS-109 Pro II',\n",
       " 'TS-110',\n",
       " 'TS-112',\n",
       " 'TS-112P',\n",
       " 'TS-119',\n",
       " 'TS-119P II',\n",
       " 'TS-119P+',\n",
       " 'TS-120',\n",
       " 'TS-121',\n",
       " 'TS-128',\n",
       " 'TS-128A',\n",
       " 'TS-130',\n",
       " 'TS-131',\n",
       " 'TS-131K',\n",
       " 'TS-131P']"
      ]
     },
     "execution_count": 103,
     "metadata": {},
     "output_type": "execute_result"
    }
   ],
   "source": [
    "l"
   ]
  },
  {
   "cell_type": "code",
   "execution_count": 71,
   "id": "425df0f0",
   "metadata": {
    "ExecuteTime": {
     "end_time": "2022-10-30T13:03:27.838103Z",
     "start_time": "2022-10-30T13:03:23.034143Z"
    }
   },
   "outputs": [],
   "source": [
    "# set values from products of product line\n",
    "for product in product_catalog2.keys():\n",
    "    sel.select_by_visible_text(product)\n",
    "    \n",
    "    product_catalog2[product] = [elem.text for elem in selector_products.options[1:]]"
   ]
  },
  {
   "cell_type": "code",
   "execution_count": 75,
   "id": "d18efd52",
   "metadata": {
    "ExecuteTime": {
     "end_time": "2022-10-30T13:05:16.066291Z",
     "start_time": "2022-10-30T13:05:16.062283Z"
    }
   },
   "outputs": [
    {
     "name": "stdout",
     "output_type": "stream",
     "text": [
      "NAS / Expansion\n",
      "['2 Bays', '3 Bays', '4 Bays', '5 Bays', '6 Bays', '8 Bays', '9 Bays', '10 Bays', '12 Bays', '15 Bays', '16 Bays', '18 Bays', '20 Bays', '22 Bays', '24 Bays', '28 Bays', '30 Bays']\n",
      "QuTScloud\n",
      "['', '', '', '', '', '', '', '', '', '', '', '', '', '', '', '', '', '']\n",
      "QBoat\n",
      "['', '', '', '', '', '', '', '', '', '', '', '', '', '', '', '', '', '']\n",
      "QGenie\n",
      "['', '', '', '', '', '', '', '', '', '', '', '', '', '', '', '', '', '']\n",
      "Computing Accelerators\n",
      "['', '', '', '', '', '', '', '', '', '', '', '', '', '', '', '', '', '']\n",
      "Switch\n",
      "['', '', '', '', '', '', '', '', '', '', '', '', '', '', '', '', '', '']\n",
      "Video Conferencing Systems\n",
      "['', '', '', '', '', '', '', '', '', '', '', '', '', '', '', '', '', '']\n",
      "QDA Drive Adapters\n",
      "['', '', '', '', '', '', '', '', '', '', '', '', '', '', '', '', '', '']\n",
      "QNA Adapters\n",
      "['', '', '', '', '', '', '', '', '', '', '', '', '', '', '', '', '', '']\n",
      "QXP Expansion Cards\n",
      "['', '', '', '', '', '', '', '', '', '', '', '', '', '', '', '', '', '']\n",
      "QWU Wake on WAN Devices\n",
      "['', '', '', '', '', '', '', '', '', '', '', '', '', '', '', '', '', '']\n",
      "QXG Network Expansion Cards\n",
      "['', '', '', '', '', '', '', '', '', '', '', '', '', '', '', '', '', '']\n",
      "QVR Pro Appliance\n",
      "['', '', '', '', '', '', '', '', '', '', '', '', '', '', '', '', '', '']\n",
      "Routers\n",
      "['', '', '', '', '', '', '', '', '', '', '', '', '', '', '', '', '', '']\n",
      "QuCPE\n",
      "['', '', '', '', '', '', '', '', '', '', '', '', '', '', '', '', '', '']\n",
      "QuWAN vRouter Edition\n",
      "['', '', '', '', '', '', '', '', '', '', '', '', '', '', '', '', '', '']\n",
      "Accessory\n",
      "['', '', '', '', '', '', '', '', '', '', '', '', '', '', '', '', '', '']\n",
      "Legacy NVR\n",
      "['', '', '', '', '', '', '', '', '', '', '', '', '', '', '', '', '', '']\n"
     ]
    }
   ],
   "source": [
    "for key, item in product_catalog2.items():\n",
    "    print(key)\n",
    "    if key == 'NAS / Expansion':\n",
    "        print(item)\n",
    "    else:\n",
    "        "
   ]
  },
  {
   "cell_type": "code",
   "execution_count": null,
   "id": "ca536bb7",
   "metadata": {},
   "outputs": [],
   "source": []
  }
 ],
 "metadata": {
  "kernelspec": {
   "display_name": "Python 3 (ipykernel)",
   "language": "python",
   "name": "python3"
  },
  "language_info": {
   "codemirror_mode": {
    "name": "ipython",
    "version": 3
   },
   "file_extension": ".py",
   "mimetype": "text/x-python",
   "name": "python",
   "nbconvert_exporter": "python",
   "pygments_lexer": "ipython3",
   "version": "3.8.12"
  },
  "toc": {
   "base_numbering": 1,
   "nav_menu": {},
   "number_sections": true,
   "sideBar": true,
   "skip_h1_title": false,
   "title_cell": "Table of Contents",
   "title_sidebar": "Contents",
   "toc_cell": false,
   "toc_position": {},
   "toc_section_display": true,
   "toc_window_display": false
  }
 },
 "nbformat": 4,
 "nbformat_minor": 5
}
