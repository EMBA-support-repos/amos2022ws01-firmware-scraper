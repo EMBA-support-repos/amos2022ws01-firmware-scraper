{
 "cells": [
  {
   "cell_type": "markdown",
   "id": "93ad06ce",
   "metadata": {},
   "source": [
    "# Import packages"
   ]
  },
  {
   "cell_type": "code",
   "execution_count": null,
   "id": "2b5b310b",
   "metadata": {
    "ExecuteTime": {
     "end_time": "2022-11-02T14:03:27.329524Z",
     "start_time": "2022-11-02T14:03:27.319607Z"
    }
   },
   "outputs": [],
   "source": [
    "from selenium import webdriver\n",
    "from selenium.webdriver.chrome.service import Service\n",
    "from webdriver_manager.chrome import ChromeDriverManager\n",
    "from selenium.webdriver.common.action_chains import ActionChains\n",
    "from selenium.webdriver.common.keys import Keys\n",
    "\n",
    "from selenium.webdriver.support.ui import Select\n",
    "from selenium.webdriver.common.by import By\n",
    "\n",
    "from selenium.webdriver.chrome.options import Options\n",
    "\n",
    "import time"
   ]
  },
  {
   "cell_type": "markdown",
   "id": "ae3bc2fb",
   "metadata": {},
   "source": [
    "# STATICS"
   ]
  },
  {
   "cell_type": "code",
   "execution_count": null,
   "id": "b9890d55",
   "metadata": {},
   "outputs": [],
   "source": [
    "VENDOR_URL = 'https://www.synology.com/en-global/support/download'\n",
    "PRODUCT_TYPE_SELECTOR = 'div.margin_bottom20 > select:nth-child(1)'\n",
    "PRODUCT_SELECTOR = '//*[@id=\"heading_bg\"]/div/div/div[2]/select'\n",
    "NEWEST_OS_SELECTOR = '//*[@id=\"results\"]/div[3]/div[2]/div[1]/div/div[1]/div[1]/div/div/div[1]'\n",
    "\n",
    "# Selenium Webdriver Options, Download Path, Headless, Screensize, Webbrowser Version\n",
    "options = Options()\n",
    "options.headless = True\n",
    "\n",
    "options.add_experimental_option(\"prefs\", {\n",
    "    \"download.default_directory\": r\"/Users/kiril/Downloads/selenium_downloads\"\n",
    "})\n"
   ]
  },
  {
   "cell_type": "markdown",
   "id": "9136e8d1",
   "metadata": {},
   "source": [
    "# Initialize Chrome and open Vendor Website"
   ]
  },
  {
   "cell_type": "code",
   "execution_count": null,
   "id": "26ee9810",
   "metadata": {
    "ExecuteTime": {
     "end_time": "2022-11-02T14:03:39.129852Z",
     "start_time": "2022-11-02T14:03:28.220472Z"
    }
   },
   "outputs": [],
   "source": [
    "class Synology_scraper:\n",
    "\n",
    "    def __init__(\n",
    "        self,\n",
    "        url: str,\n",
    "        headless: bool,\n",
    "        options: Options,\n",
    "    ):  \n",
    "        print(f\"headless: {options.headless}\")\n",
    "        self.driver = webdriver.Chrome(service=Service(ChromeDriverManager().install()), options=options)\n",
    "        self.url = url\n",
    "        print('Initialized successfully')\n",
    "\n",
    "\n",
    "    def open_website(self):\n",
    "        try:\n",
    "            self.driver.get(self.url)\n",
    "            print('Opened Website')\n",
    "        except:\n",
    "            print('nix')\n",
    "            pass\n",
    "\n",
    "    def create_product_catalog(self):\n",
    "        \"\"\"_summary_\n",
    "\n",
    "        Returns:\n",
    "            dict: _description_\n",
    "        \"\"\"\n",
    "        sel = Select(self.driver.find_element(By.CSS_SELECTOR, value=f\"{PRODUCT_TYPE_SELECTOR}\"))\n",
    "        \n",
    "        # set keys as product_lines\n",
    "        product_catalog = dict.fromkeys([elem.text for elem in sel.options[1:]], None)\n",
    "        # set values from products of product line\n",
    "        for product in product_catalog.keys():\n",
    "            sel.select_by_visible_text(product)\n",
    "            selector_products = Select(self.driver.find_element(By.XPATH, value=f\"{PRODUCT_SELECTOR}\"))\n",
    "            product_catalog[product] = [elem.text for elem in selector_products.options[1:]]\n",
    "        print('created product_catalog')\n",
    "        self.product_catalog = product_catalog\n",
    "\n",
    "    def download_product(self) -> bool:\n",
    "        \"\"\"_summary_\n",
    "\n",
    "        Returns:\n",
    "            bool: _description_\n",
    "        \"\"\"\n",
    "\n",
    "    def choose_product_line(self, product_line=str) -> None:\n",
    "        sel = Select(self.driver.find_element(By.CSS_SELECTOR, value='div.margin_bottom20 > select:nth-child(1)'))\n",
    "        \n",
    "        sel.select_by_visible_text(product_line)\n",
    "        selector_products = Select(self.driver.find_element(By.XPATH, value='//*[@id=\"heading_bg\"]/div/div/div[2]/select'))\n",
    "        #return [elem.text for elem in selector_products.options[1:]]\n",
    "\n",
    "    def choose_product(self, product=str) -> (str,str,str):\n",
    "        self.driver.implicitly_wait(10)\n",
    "        time.sleep(1)\n",
    "        selector_products = Select(self.driver.find_element(By.XPATH, value=f'{PRODUCT_SELECTOR}'))\n",
    "        selector_products.select_by_visible_text(product)\n",
    "        # newest OS Version\n",
    "        self.driver.implicitly_wait(1)\n",
    "        selector_OS = self.driver.find_element(By.XPATH, value=f'{NEWEST_OS_SELECTOR}')\n",
    "\n",
    "        # return MD5 checksum and DSM newest OS Version and current URL\n",
    "        return self.get_MD5_checksum(), selector_OS.text, self.driver.current_url\n",
    "    \n",
    "    def download_product(self, product=str) -> bool:\n",
    "        \"\"\"\n",
    "        \"\"\"\n",
    "        try:\n",
    "            el = self.driver.find_element(By.XPATH, value='//*[@id=\"results\"]/div[3]/div[2]/div[1]/div/div[1]/div[1]/div/div/div[3]/div/div/div/div[1]/a')\n",
    "            el.click()\n",
    "            return True\n",
    "        except:\n",
    "            False\n",
    "        \n",
    "    def get_MD5_checksum(self) -> str:\n",
    "        el = self.driver.find_element(By.XPATH, value='//*[@id=\"results\"]/div[3]/div[2]/div[1]/div/div[1]/div[1]/div/div/div[3]/div/div/div/div[2]/div[2]/div/a')\n",
    "        return el.get_attribute('title').replace('\\n(Copy to Clipboard)','')"
   ]
  },
  {
   "cell_type": "code",
   "execution_count": null,
   "id": "d3b14fda",
   "metadata": {},
   "outputs": [],
   "source": [
    "Syn = Synology_scraper(VENDOR_URL, headless=False, options=options)"
   ]
  },
  {
   "cell_type": "code",
   "execution_count": null,
   "id": "3f765faa",
   "metadata": {},
   "outputs": [],
   "source": [
    "Syn.open_website()"
   ]
  },
  {
   "cell_type": "code",
   "execution_count": null,
   "id": "f2f03fe3",
   "metadata": {},
   "outputs": [],
   "source": [
    "# 5 seconds\n",
    "Syn.create_product_catalog()"
   ]
  },
  {
   "cell_type": "code",
   "execution_count": null,
   "id": "229e4178",
   "metadata": {},
   "outputs": [],
   "source": [
    "Syn.choose_product_line('NAS')"
   ]
  },
  {
   "cell_type": "code",
   "execution_count": null,
   "id": "34336772",
   "metadata": {},
   "outputs": [],
   "source": [
    "Syn.choose_product('RS408')"
   ]
  },
  {
   "cell_type": "code",
   "execution_count": null,
   "id": "9e6d12d2",
   "metadata": {},
   "outputs": [],
   "source": [
    "#MD5 checksum and DSM newest OS Version and current URL"
   ]
  },
  {
   "cell_type": "code",
   "execution_count": null,
   "id": "5d752b56",
   "metadata": {},
   "outputs": [],
   "source": [
    "from tqdm import tqdm\n",
    "import pandas as pd\n",
    "\n",
    "result_df = pd.DataFrame(columns=[\n",
    "                         'vendor', 'product_line', 'product', 'MD5', 'DSM', 'url', 'downloaded', 'exception_e'])\n",
    "\n",
    "for product_line in Syn.product_catalog.keys():\n",
    "    Syn.choose_product_line(product_line)\n",
    "\n",
    "    for i, product in tqdm(enumerate(Syn.product_catalog[product_line][0:])):\n",
    "        print(product_line, product)\n",
    "        appendix = []\n",
    "        appendix.append('Synology')\n",
    "        appendix.append(product_line)\n",
    "        appendix.append(str(product))\n",
    "        try:\n",
    "            md5, dsm, url = Syn.choose_product(f'{product}')\n",
    "            appendix.append(md5)\n",
    "            appendix.append(dsm)\n",
    "            appendix.append(url)\n",
    "            appendix.append('NotImplemented')\n",
    "            appendix.append('')\n",
    "        except Exception as e:\n",
    "            appendix.append(\"\")\n",
    "            appendix.append(\"\")\n",
    "            appendix.append(\"\")\n",
    "            appendix.append(\"NotImplemented\")\n",
    "            appendix.append(str(e))\n",
    "        result_df = result_df.append(pd.DataFrame([appendix], columns=result_df.columns), ignore_index=True)\n"
   ]
  },
  {
   "cell_type": "code",
   "execution_count": null,
   "id": "16003299",
   "metadata": {},
   "outputs": [],
   "source": [
    "result_df"
   ]
  },
  {
   "cell_type": "code",
   "execution_count": null,
   "id": "f4102b8d",
   "metadata": {},
   "outputs": [],
   "source": [
    "result_df.to_csv('/Users/kiril/Downloads/selenium_downloads/everyone.csv')"
   ]
  },
  {
   "cell_type": "code",
   "execution_count": null,
   "id": "7bdee6e6",
   "metadata": {},
   "outputs": [],
   "source": [
    "! open ."
   ]
  },
  {
   "cell_type": "code",
   "execution_count": null,
   "id": "7ec4f656",
   "metadata": {},
   "outputs": [],
   "source": [
    "! open /Users/kiril/Downloads/selenium_downloads/test2_waiting.csv"
   ]
  },
  {
   "cell_type": "code",
   "execution_count": null,
   "id": "32ae6249",
   "metadata": {},
   "outputs": [],
   "source": [
    "from tqdm import tqdm\n",
    "for i, product in tqdm(enumerate(Syn.product_catalog[product_line][0:])):\n",
    "    time.sleep(1)\n",
    "    pass"
   ]
  },
  {
   "cell_type": "markdown",
   "id": "6a40b4b5",
   "metadata": {
    "ExecuteTime": {
     "end_time": "2022-10-31T05:03:54.708803Z",
     "start_time": "2022-10-31T05:03:54.697364Z"
    }
   },
   "source": [
    "# functions"
   ]
  },
  {
   "cell_type": "code",
   "execution_count": null,
   "id": "880823eb",
   "metadata": {
    "ExecuteTime": {
     "end_time": "2022-11-02T11:20:47.947117Z",
     "start_time": "2022-11-02T11:20:47.935668Z"
    }
   },
   "outputs": [],
   "source": [
    "def initialize_webdriver() -> bool:\n",
    "    driver = webdriver.Chrome(service=Service(ChromeDriverManager().install()))\n",
    "\n",
    "def open_website() -> bool:\n",
    "    driver.get(f\"{VENDOR_URL}\")\n",
    "\n",
    "\n",
    "\n",
    "def choose_product_line(product_line=str) -> None:\n",
    "    \n",
    "    sel = Select(driver.find_element(By.CSS_SELECTOR, value='div.margin_bottom20 > select:nth-child(1)'))\n",
    "    sel.select_by_visible_text(product_line)\n",
    "    selector_products = Select(driver.find_element(By.XPATH, value='//*[@id=\"heading_bg\"]/div/div/div[2]/select'))\n",
    "    return [elem.text for elem in selector_products.options[1:]]\n",
    "\n",
    "def choose_product(self, product_catalog=dict, product=str) -> None:\n",
    "    selector_products = Select(self.driver.find_element(By.XPATH, value='//*[@id=\"heading_bg\"]/div/div/div[2]/select'))\n",
    "    self.driver.implicitly_wait(2)\n",
    "    selector_products.select_by_visible_text(product)\n",
    "    # newest OS Version\n",
    "    selector_OS =self.driver.find_element(By.XPATH, value='//*[@id=\"results\"]/div[3]/div[2]/div[1]/div/div[1]/div[1]/div/div/div[1]')\n",
    "    \n",
    "    print(f'MD5: {get_MD5_checksum()}')\n",
    "    # download\n",
    "    print(f\"Newest OS Version: {selector_OS.text}\")\n",
    "    \n",
    "    \n",
    "def download_product(product_catalog=dict, product=str) -> bool:\n",
    "    \"\"\"\n",
    "    \"\"\"\n",
    "    #product_line_lookup(product)\n",
    "    el = driver.find_element(By.XPATH, value='//*[@id=\"results\"]/div[3]/div[2]/div[1]/div/div[1]/div[1]/div/div/div[3]/div/div/div/div[1]/a')\n",
    "    el.click()\n",
    "    \n",
    "def get_MD5_checksum() -> str:\n",
    "    #el = driver.find_element(By.XPATH, value='//*[@id=\"results\"]/div[3]/div[2]/div[1]/div/div[1]/div[1]/div/div/div[3]/div/div/div/div[2]')\n",
    "    #el.click()\n",
    "    #el = driver.find_element(By.XPATH, value='//*[@id=\"results\"]/div[3]/div[2]/div[1]/div/div[1]/div[1]/div/div/div[3]/div/div/div/div[2]/div[2]/div/a')\n",
    "    #el.click()\n",
    "    el = driver.find_element(By.XPATH, value='//*[@id=\"results\"]/div[3]/div[2]/div[1]/div/div[1]/div[1]/div/div/div[3]/div/div/div/div[2]/div[2]/div/a')\n",
    "    return el.get_attribute('title').replace('\\n(Copy to Clipboard)','')"
   ]
  },
  {
   "cell_type": "code",
   "execution_count": null,
   "id": "6a63a661",
   "metadata": {
    "ExecuteTime": {
     "end_time": "2022-11-02T11:21:03.201053Z",
     "start_time": "2022-11-02T11:20:56.799462Z"
    }
   },
   "outputs": [],
   "source": [
    "# all product lines and their corresponding products in one product catalogue as dynamic dictionary\n",
    "product_catalog = create_product_catalog()\n",
    "product_catalog"
   ]
  },
  {
   "cell_type": "code",
   "execution_count": null,
   "id": "75136fe6",
   "metadata": {
    "ExecuteTime": {
     "end_time": "2022-11-02T11:23:14.343602Z",
     "start_time": "2022-11-02T11:23:14.260684Z"
    }
   },
   "outputs": [],
   "source": [
    "# returns list of strings of products from selected product_line \n",
    "choose_product_line('Network')"
   ]
  },
  {
   "cell_type": "code",
   "execution_count": null,
   "id": "0b467fb2",
   "metadata": {
    "ExecuteTime": {
     "end_time": "2022-11-02T11:23:14.711288Z",
     "start_time": "2022-11-02T11:23:14.649192Z"
    }
   },
   "outputs": [],
   "source": [
    "# funktioniert nur richtig in jupyter notebook, wenn die seite visuell auch geladen ist :-)\n",
    "# könnte an jupyter notebook liegen\n",
    "product = 'RT6600ax'\n",
    "choose_product(product_catalog, product)\n",
    "# output is MD5 checksum and newest available OS Version"
   ]
  },
  {
   "cell_type": "markdown",
   "id": "4473f144",
   "metadata": {},
   "source": [
    "# start local download"
   ]
  },
  {
   "cell_type": "code",
   "execution_count": null,
   "id": "cd4084d0",
   "metadata": {
    "ExecuteTime": {
     "end_time": "2022-11-02T11:29:34.985392Z",
     "start_time": "2022-11-02T11:29:34.784206Z"
    }
   },
   "outputs": [],
   "source": [
    "# TODO argument missing to parse download_folder ( should actually be a Chrome config file)\n",
    "download_product(product_catalog, product)"
   ]
  },
  {
   "cell_type": "markdown",
   "id": "ea6e30eb",
   "metadata": {},
   "source": [
    "# compare MD5 checksum "
   ]
  },
  {
   "cell_type": "code",
   "execution_count": null,
   "id": "0657e876",
   "metadata": {},
   "outputs": [],
   "source": []
  },
  {
   "cell_type": "markdown",
   "id": "07d576a3",
   "metadata": {
    "ExecuteTime": {
     "end_time": "2022-10-29T18:07:19.518852Z",
     "start_time": "2022-10-29T18:07:19.508578Z"
    }
   },
   "source": [
    "# close browser"
   ]
  },
  {
   "cell_type": "code",
   "execution_count": null,
   "id": "da451530",
   "metadata": {
    "ExecuteTime": {
     "end_time": "2022-10-30T12:55:48.689653Z",
     "start_time": "2022-10-30T12:55:47.911342Z"
    }
   },
   "outputs": [],
   "source": [
    "driver.quit()"
   ]
  },
  {
   "cell_type": "code",
   "execution_count": null,
   "id": "840d0770",
   "metadata": {},
   "outputs": [],
   "source": []
  },
  {
   "cell_type": "code",
   "execution_count": null,
   "id": "aab5b098",
   "metadata": {},
   "outputs": [],
   "source": []
  },
  {
   "cell_type": "code",
   "execution_count": null,
   "id": "00e7c452",
   "metadata": {},
   "outputs": [],
   "source": []
  },
  {
   "cell_type": "markdown",
   "id": "3056bb0e",
   "metadata": {},
   "source": [
    "# QNAP test with refactoring / only partly working yet"
   ]
  },
  {
   "cell_type": "code",
   "execution_count": null,
   "id": "d83a3945",
   "metadata": {},
   "outputs": [],
   "source": []
  },
  {
   "cell_type": "code",
   "execution_count": null,
   "id": "4f18f5b3",
   "metadata": {
    "ExecuteTime": {
     "end_time": "2022-10-30T16:48:22.689022Z",
     "start_time": "2022-10-30T16:48:16.110996Z"
    }
   },
   "outputs": [],
   "source": [
    "driver = webdriver.Chrome(service=Service(ChromeDriverManager().install()))\n",
    "driver.get(\"https://www.qnap.com/en-me/download?model=hs-210&category=firmware\")"
   ]
  },
  {
   "cell_type": "code",
   "execution_count": null,
   "id": "55723198",
   "metadata": {
    "ExecuteTime": {
     "end_time": "2022-10-30T16:48:24.260335Z",
     "start_time": "2022-10-30T16:48:24.232973Z"
    }
   },
   "outputs": [],
   "source": [
    "el = driver.find_element(By.XPATH, value='//*[@id=\"download_center\"]/div/div[1]/div/div[1]/div[1]/div/select')\n",
    "sel = Select(el)"
   ]
  },
  {
   "cell_type": "code",
   "execution_count": null,
   "id": "e79cb26b",
   "metadata": {
    "ExecuteTime": {
     "end_time": "2022-10-30T16:48:30.189342Z",
     "start_time": "2022-10-30T16:48:29.993406Z"
    }
   },
   "outputs": [],
   "source": [
    "product_catalog2 = dict.fromkeys([el.text for el in sel.options])"
   ]
  },
  {
   "cell_type": "code",
   "execution_count": null,
   "id": "8672c843",
   "metadata": {
    "ExecuteTime": {
     "end_time": "2022-10-30T16:48:30.610827Z",
     "start_time": "2022-10-30T16:48:30.606278Z"
    }
   },
   "outputs": [],
   "source": [
    "product_catalog2"
   ]
  },
  {
   "cell_type": "code",
   "execution_count": null,
   "id": "f7ecbc30",
   "metadata": {
    "ExecuteTime": {
     "end_time": "2022-10-30T16:48:32.468196Z",
     "start_time": "2022-10-30T16:48:32.464551Z"
    }
   },
   "outputs": [],
   "source": [
    "def find_options_in_select(XPATH_str=str, skip=0) -> (Select, list):\n",
    "    \n",
    "    \"\"\"\n",
    "    xpath: xpath to dropdown menue / select. \n",
    "    skip: how many options to skip (sometimes first element is \"please select product type\", we dont need that)\n",
    "    returns: list of str of dropdown elements\n",
    "    \"\"\"\n",
    "    \n",
    "    select = Select(driver.find_element(By.XPATH, value=XPATH_str))\n",
    "    return select, [elem.text for elem in select.options[skip:]]"
   ]
  },
  {
   "cell_type": "code",
   "execution_count": null,
   "id": "a022f1b4",
   "metadata": {
    "ExecuteTime": {
     "end_time": "2022-10-30T16:48:33.146735Z",
     "start_time": "2022-10-30T16:48:33.013313Z"
    }
   },
   "outputs": [],
   "source": [
    "product_catalog = {}\n",
    "s, l = find_options_in_select('//*[@id=\"download_center\"]/div/div[1]/div/div[1]/div[1]/div/select')\n",
    "product_catalog = product_catalog.fromkeys(l)"
   ]
  },
  {
   "cell_type": "code",
   "execution_count": null,
   "id": "81f4f65e",
   "metadata": {
    "ExecuteTime": {
     "end_time": "2022-10-30T16:48:35.193320Z",
     "start_time": "2022-10-30T16:48:34.301914Z"
    }
   },
   "outputs": [],
   "source": [
    "for key in product_catalog.keys():\n",
    "    print(key)\n",
    "    s.select_by_visible_text(key)\n",
    "    # product_catalog[key] ="
   ]
  },
  {
   "cell_type": "code",
   "execution_count": null,
   "id": "385d4d06",
   "metadata": {
    "ExecuteTime": {
     "end_time": "2022-10-30T16:48:11.651823Z",
     "start_time": "2022-10-30T16:47:49.528259Z"
    }
   },
   "outputs": [],
   "source": [
    "for element in l:\n",
    "    s.select_by_visible_text(element)\n",
    "    s, l = find_options_in_select('//*[@id=\"download_center\"]/div/div[1]/div/div[1]/div[2]/div/select', skip=1)"
   ]
  },
  {
   "cell_type": "code",
   "execution_count": null,
   "id": "b8ab0f26",
   "metadata": {},
   "outputs": [],
   "source": []
  },
  {
   "cell_type": "code",
   "execution_count": null,
   "id": "1119ff1c",
   "metadata": {
    "ExecuteTime": {
     "end_time": "2022-10-30T13:22:40.026780Z",
     "start_time": "2022-10-30T13:22:39.788085Z"
    }
   },
   "outputs": [],
   "source": [
    "s, l = find_options_in_select('//*[@id=\"download_center\"]/div/div[1]/div/div[1]/div[2]/div/select', skip=1)"
   ]
  },
  {
   "cell_type": "code",
   "execution_count": null,
   "id": "063e6daf",
   "metadata": {
    "ExecuteTime": {
     "end_time": "2022-10-30T13:23:15.377055Z",
     "start_time": "2022-10-30T13:23:15.312430Z"
    }
   },
   "outputs": [],
   "source": [
    "s.select_by_visible_text(l[0])"
   ]
  },
  {
   "cell_type": "code",
   "execution_count": null,
   "id": "fe72f0b6",
   "metadata": {
    "ExecuteTime": {
     "end_time": "2022-10-30T13:24:32.433895Z",
     "start_time": "2022-10-30T13:24:32.121012Z"
    }
   },
   "outputs": [],
   "source": [
    "s, l = find_options_in_select('//*[@id=\"model-select\"]', skip=1)"
   ]
  },
  {
   "cell_type": "code",
   "execution_count": null,
   "id": "92e351f7",
   "metadata": {
    "ExecuteTime": {
     "end_time": "2022-10-30T13:24:36.224123Z",
     "start_time": "2022-10-30T13:24:36.219472Z"
    }
   },
   "outputs": [],
   "source": [
    "l"
   ]
  },
  {
   "cell_type": "code",
   "execution_count": null,
   "id": "425df0f0",
   "metadata": {
    "ExecuteTime": {
     "end_time": "2022-10-30T13:03:27.838103Z",
     "start_time": "2022-10-30T13:03:23.034143Z"
    }
   },
   "outputs": [],
   "source": [
    "# set values from products of product line\n",
    "for product in product_catalog2.keys():\n",
    "    sel.select_by_visible_text(product)\n",
    "    \n",
    "    product_catalog2[product] = [elem.text for elem in selector_products.options[1:]]"
   ]
  },
  {
   "cell_type": "code",
   "execution_count": null,
   "id": "d18efd52",
   "metadata": {
    "ExecuteTime": {
     "end_time": "2022-10-30T13:05:16.066291Z",
     "start_time": "2022-10-30T13:05:16.062283Z"
    }
   },
   "outputs": [],
   "source": [
    "for key, item in product_catalog2.items():\n",
    "    print(key)\n",
    "    if key == 'NAS / Expansion':\n",
    "        print(item)\n",
    "    else:\n",
    "        "
   ]
  },
  {
   "cell_type": "code",
   "execution_count": null,
   "id": "ca536bb7",
   "metadata": {},
   "outputs": [],
   "source": []
  }
 ],
 "metadata": {
  "kernelspec": {
   "display_name": "Python 3.8.12 ('base')",
   "language": "python",
   "name": "python3"
  },
  "language_info": {
   "codemirror_mode": {
    "name": "ipython",
    "version": 3
   },
   "file_extension": ".py",
   "mimetype": "text/x-python",
   "name": "python",
   "nbconvert_exporter": "python",
   "pygments_lexer": "ipython3",
   "version": "3.8.12"
  },
  "toc": {
   "base_numbering": 1,
   "nav_menu": {},
   "number_sections": true,
   "sideBar": true,
   "skip_h1_title": false,
   "title_cell": "Table of Contents",
   "title_sidebar": "Contents",
   "toc_cell": false,
   "toc_position": {},
   "toc_section_display": true,
   "toc_window_display": false
  },
  "vscode": {
   "interpreter": {
    "hash": "c6e2f7d64e09a47553de0af19c128f3bd931f0a52e5c7b5b5273e1e89ded9318"
   }
  }
 },
 "nbformat": 4,
 "nbformat_minor": 5
}
